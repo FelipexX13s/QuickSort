{
  "nbformat": 4,
  "nbformat_minor": 0,
  "metadata": {
    "colab": {
      "provenance": []
    },
    "kernelspec": {
      "name": "python3",
      "display_name": "Python 3"
    },
    "language_info": {
      "name": "python"
    }
  },
  "cells": [
    {
      "cell_type": "code",
      "execution_count": 18,
      "metadata": {
        "colab": {
          "base_uri": "https://localhost:8080/"
        },
        "id": "2G2YsQlcp_OW",
        "outputId": "73c23585-62dd-475d-8755-d8c0f9e9ca69"
      },
      "outputs": [
        {
          "output_type": "stream",
          "name": "stdout",
          "text": [
            "144\n",
            "[0, 1, 1, 2, 3, 5, 8, 13, 21, 34, 55, 89, 144]\n"
          ]
        }
      ],
      "source": [
        "def f(x):\n",
        "  if(x == 0):\n",
        "    return 0\n",
        "  elif(x == 1):\n",
        "    return 1\n",
        "  else:\n",
        "    return f(x-1) + f(x-2)\n",
        "\n",
        "def fibonacci(n, sequence=[0, 1]):\n",
        "    if n <= len(sequence):\n",
        "        return sequence[:n]\n",
        "    else:\n",
        "        next_number = sequence[-1] + sequence[-2]\n",
        "        return fibonacci(n, sequence + [next_number])\n",
        "\n",
        "print(f(12))\n",
        "print(fibonacci(13))"
      ]
    },
    {
      "cell_type": "code",
      "source": [
        "def quicksort(arr):\n",
        "    if len(arr) <= 1:\n",
        "        return arr\n",
        "    else:\n",
        "        pivote = arr[0]\n",
        "        menores_o_iguales = [x for x in arr[1:] if x <= pivote]\n",
        "        mayores = [x for x in arr[1:] if x > pivote]\n",
        "        return quicksort(menores_o_iguales) + [pivote] + quicksort(mayores)\n",
        "\n",
        "# Ejemplo de uso\n",
        "lista = [3, 5, 89, 8, 13, 55, 1, 2, 34, 144, 1, 21]\n",
        "lista_ordenada = quicksort(lista)\n",
        "print(lista_ordenada)"
      ],
      "metadata": {
        "colab": {
          "base_uri": "https://localhost:8080/"
        },
        "id": "EnkYeysurKE9",
        "outputId": "b906ec6f-0cc0-4e6c-e7d5-eaab86b64215"
      },
      "execution_count": 20,
      "outputs": [
        {
          "output_type": "stream",
          "name": "stdout",
          "text": [
            "[1, 1, 2, 3, 5, 8, 13, 21, 34, 55, 89, 144]\n"
          ]
        }
      ]
    }
  ]
}